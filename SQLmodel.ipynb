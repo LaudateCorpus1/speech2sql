{
 "cells": [
  {
   "cell_type": "code",
   "execution_count": 3,
   "metadata": {},
   "outputs": [],
   "source": [
    "import pandas as pd\n",
    "import numpy as np\n",
    "\n",
    "import keras\n",
    "keras.__version__\n",
    "\n",
    "\n",
    "from keras.preprocessing.text import Tokenizer\n",
    "from keras.preprocessing.sequence import pad_sequences\n",
    "from keras.layers import Embedding"
   ]
  },
  {
   "cell_type": "code",
   "execution_count": 13,
   "metadata": {},
   "outputs": [
    {
     "data": {
      "text/html": [
       "<div>\n",
       "<style scoped>\n",
       "    .dataframe tbody tr th:only-of-type {\n",
       "        vertical-align: middle;\n",
       "    }\n",
       "\n",
       "    .dataframe tbody tr th {\n",
       "        vertical-align: top;\n",
       "    }\n",
       "\n",
       "    .dataframe thead th {\n",
       "        text-align: right;\n",
       "    }\n",
       "</style>\n",
       "<table border=\"1\" class=\"dataframe\">\n",
       "  <thead>\n",
       "    <tr style=\"text-align: right;\">\n",
       "      <th></th>\n",
       "      <th>query-split</th>\n",
       "      <th>sentences</th>\n",
       "      <th>sql</th>\n",
       "      <th>variables</th>\n",
       "    </tr>\n",
       "  </thead>\n",
       "  <tbody>\n",
       "    <tr>\n",
       "      <th>0</th>\n",
       "      <td>1</td>\n",
       "      <td>[{'question-split': '4', 'text': 'return me th...</td>\n",
       "      <td>[SELECT JOURNALalias0.HOMEPAGE FROM JOURNAL AS...</td>\n",
       "      <td>[{'example': 'PVLDB', 'location': 'both', 'nam...</td>\n",
       "    </tr>\n",
       "    <tr>\n",
       "      <th>1</th>\n",
       "      <td>0</td>\n",
       "      <td>[{'question-split': '0', 'text': 'return me th...</td>\n",
       "      <td>[SELECT AUTHORalias0.HOMEPAGE FROM AUTHOR AS A...</td>\n",
       "      <td>[{'example': 'H. V. Jagadish', 'location': 'bo...</td>\n",
       "    </tr>\n",
       "    <tr>\n",
       "      <th>2</th>\n",
       "      <td>9</td>\n",
       "      <td>[{'question-split': '1', 'text': 'return me th...</td>\n",
       "      <td>[SELECT PUBLICATIONalias0.ABSTRACT FROM PUBLIC...</td>\n",
       "      <td>[{'example': 'Making database systems usable',...</td>\n",
       "    </tr>\n",
       "    <tr>\n",
       "      <th>3</th>\n",
       "      <td>2</td>\n",
       "      <td>[{'question-split': '6', 'text': 'return me th...</td>\n",
       "      <td>[SELECT PUBLICATIONalias0.YEAR FROM PUBLICATIO...</td>\n",
       "      <td>[{'example': 'Making database systems usable',...</td>\n",
       "    </tr>\n",
       "    <tr>\n",
       "      <th>4</th>\n",
       "      <td>3</td>\n",
       "      <td>[{'question-split': '4', 'text': 'return me th...</td>\n",
       "      <td>[SELECT PUBLICATIONalias0.TITLE FROM PUBLICATI...</td>\n",
       "      <td>[{'example': '2000', 'location': 'both', 'name...</td>\n",
       "    </tr>\n",
       "  </tbody>\n",
       "</table>\n",
       "</div>"
      ],
      "text/plain": [
       "   query-split                                          sentences  \\\n",
       "0            1  [{'question-split': '4', 'text': 'return me th...   \n",
       "1            0  [{'question-split': '0', 'text': 'return me th...   \n",
       "2            9  [{'question-split': '1', 'text': 'return me th...   \n",
       "3            2  [{'question-split': '6', 'text': 'return me th...   \n",
       "4            3  [{'question-split': '4', 'text': 'return me th...   \n",
       "\n",
       "                                                 sql  \\\n",
       "0  [SELECT JOURNALalias0.HOMEPAGE FROM JOURNAL AS...   \n",
       "1  [SELECT AUTHORalias0.HOMEPAGE FROM AUTHOR AS A...   \n",
       "2  [SELECT PUBLICATIONalias0.ABSTRACT FROM PUBLIC...   \n",
       "3  [SELECT PUBLICATIONalias0.YEAR FROM PUBLICATIO...   \n",
       "4  [SELECT PUBLICATIONalias0.TITLE FROM PUBLICATI...   \n",
       "\n",
       "                                           variables  \n",
       "0  [{'example': 'PVLDB', 'location': 'both', 'nam...  \n",
       "1  [{'example': 'H. V. Jagadish', 'location': 'bo...  \n",
       "2  [{'example': 'Making database systems usable',...  \n",
       "3  [{'example': 'Making database systems usable',...  \n",
       "4  [{'example': '2000', 'location': 'both', 'name...  "
      ]
     },
     "execution_count": 13,
     "metadata": {},
     "output_type": "execute_result"
    }
   ],
   "source": [
    "advising = pd.read_json('txt2sql-data/advising.json')\n",
    "academic.head()"
   ]
  },
  {
   "cell_type": "code",
   "execution_count": null,
   "metadata": {},
   "outputs": [],
   "source": []
  },
  {
   "cell_type": "code",
   "execution_count": null,
   "metadata": {},
   "outputs": [],
   "source": []
  },
  {
   "cell_type": "code",
   "execution_count": null,
   "metadata": {},
   "outputs": [],
   "source": []
  }
 ],
 "metadata": {
  "kernelspec": {
   "display_name": "Python 3",
   "language": "python",
   "name": "python3"
  },
  "language_info": {
   "codemirror_mode": {
    "name": "ipython",
    "version": 3
   },
   "file_extension": ".py",
   "mimetype": "text/x-python",
   "name": "python",
   "nbconvert_exporter": "python",
   "pygments_lexer": "ipython3",
   "version": "3.6.7"
  }
 },
 "nbformat": 4,
 "nbformat_minor": 2
}
